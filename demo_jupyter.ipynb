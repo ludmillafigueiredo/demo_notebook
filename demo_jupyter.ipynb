{
 "cells": [
  {
   "cell_type": "markdown",
   "id": "7947fbb0",
   "metadata": {},
   "source": [
    "Add some text for demo."
   ]
  },
  {
   "cell_type": "code",
   "execution_count": 1,
   "id": "0da64ab4",
   "metadata": {},
   "outputs": [
    {
     "name": "stdout",
     "output_type": "stream",
     "text": [
      "2\n"
     ]
    }
   ],
   "source": [
    "x = 2\n",
    "print(x)"
   ]
  },
  {
   "cell_type": "markdown",
   "id": "816e820e",
   "metadata": {},
   "source": [
    "Add some more text."
   ]
  }
 ],
 "metadata": {
  "kernelspec": {
   "display_name": "Python 3",
   "language": "python",
   "name": "python3"
  },
  "language_info": {
   "codemirror_mode": {
    "name": "ipython",
    "version": 3
   },
   "file_extension": ".py",
   "mimetype": "text/x-python",
   "name": "python",
   "nbconvert_exporter": "python",
   "pygments_lexer": "ipython3",
   "version": "3.8.8"
  }
 },
 "nbformat": 4,
 "nbformat_minor": 5
}
